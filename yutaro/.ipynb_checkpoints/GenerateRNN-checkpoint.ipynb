{
 "cells": [
  {
   "cell_type": "markdown",
   "metadata": {},
   "source": [
    "# Summary\n",
    "\n",
    "- (paper)[https://arxiv.org/pdf/1308.0850v5.pdf]\n",
    "\n",
    "- LSTM RNN can be used to generate complex sequences with long range structure.\n",
    "\n",
    "- Extention: Handwriting synthesis by allowing the network to condition its predictions on a text sequence. "
   ]
  },
  {
   "cell_type": "markdown",
   "metadata": {},
   "source": [
    "## Section 3: Text Prediction\n",
    "\n",
    "Text data is discrete. If there are $K$ text classes in total, and class $k$ is fed in at time $t$, \n",
    "then $x_t$ is a length $K$ vector whose entries are all zero except for the $k$ th, which is one.\n",
    "Gvien an input vector (one-hot vector) $x_t \\in \\mathbb{R}^K$, the network models the \n",
    "probability distribution of the next input $x_{t+1}$, given $y_t$. That is,\n",
    "\n",
    "$$  \n",
    "y_t = RNN(x_t)  \\\\\n",
    "x_{t+1} | y_t\\sim multinomial(y_t) \\\\\n",
    "\\iff P(x_{t+1} = k | y_t) = y_t^k  = \\frac{ \\exp(\\hat{y_t}^k)}{\\sum_i \\exp(\\hat{y_t}^i) } \n",
    "$$"
   ]
  },
  {
   "cell_type": "markdown",
   "metadata": {},
   "source": [
    "## Section 4: Handwriting Prediction\n",
    "\n"
   ]
  },
  {
   "cell_type": "markdown",
   "metadata": {},
   "source": [
    "## Section 5: Handwriting Synthesis\n",
    "\n",
    "This section describes\n",
    "an augmentation that allows a prediction network to generate data sequences\n",
    "conditioned on some high-level annotation sequence (a character string,\n",
    "in the case of handwriting synthesis)\n",
    "\n",
    "Main idea: Introduce window layer so that the network learns the alignment between \n",
    "text characters (which will be fed in during synthesis) and the writing positions."
   ]
  },
  {
   "cell_type": "code",
   "execution_count": null,
   "metadata": {
    "collapsed": true
   },
   "outputs": [],
   "source": []
  }
 ],
 "metadata": {
  "kernelspec": {
   "display_name": "Python 3",
   "language": "python",
   "name": "python3"
  },
  "language_info": {
   "codemirror_mode": {
    "name": "ipython",
    "version": 3
   },
   "file_extension": ".py",
   "mimetype": "text/x-python",
   "name": "python",
   "nbconvert_exporter": "python",
   "pygments_lexer": "ipython3",
   "version": "3.4.3"
  }
 },
 "nbformat": 4,
 "nbformat_minor": 0
}
